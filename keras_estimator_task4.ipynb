{
  "nbformat": 4,
  "nbformat_minor": 0,
  "metadata": {
    "colab": {
      "name": "keras_estimator_task4.ipynb",
      "provenance": [],
      "include_colab_link": true
    },
    "kernelspec": {
      "name": "python3",
      "display_name": "Python 3"
    }
  },
  "cells": [
    {
      "cell_type": "markdown",
      "metadata": {
        "id": "view-in-github",
        "colab_type": "text"
      },
      "source": [
        "<a href=\"https://colab.research.google.com/github/rollno4/book_catalog/blob/master/keras_estimator_task4.ipynb\" target=\"_parent\"><img src=\"https://colab.research.google.com/assets/colab-badge.svg\" alt=\"Open In Colab\"/></a>"
      ]
    },
    {
      "cell_type": "markdown",
      "metadata": {
        "id": "qnugW1CGbw8M",
        "colab_type": "text"
      },
      "source": [
        "The following code creates and runs a very basic deep learning model using the tf.keras API"
      ]
    },
    {
      "cell_type": "code",
      "metadata": {
        "id": "Q6Oh4GRibvI6",
        "colab_type": "code",
        "colab": {}
      },
      "source": [
        "import tensorflow as tf\n",
        "from tensorflow.keras import datasets, layers, models\n",
        "import matplotlib.pyplot as plt\n",
        "\n",
        "(train_images, train_labels), (test_images, test_labels) = datasets.cifar10.load_data()\n",
        "train_images, test_images = train_images / 255.0, test_images / 255.0 \n",
        "class_names = ['airplane', 'automobile', 'bird', 'cat', 'deer',       \n",
        "               'dog', 'frog', 'horse', 'ship', 'truck']\n",
        "\n",
        "model = models.Sequential()\n",
        "model.add(layers.Conv2D(32, (3, 3), activation='relu', input_shape=(32, 32, 3)))\n",
        "model.add(layers.MaxPooling2D((2, 2)))\n",
        "model.add(layers.Conv2D(64, (3, 3), activation='relu'))\n",
        "model.add(layers.MaxPooling2D((2, 2))) \n",
        "model.add(layers.Flatten())\n",
        "model.add(layers.Dense(64, activation='relu'))\n",
        "model.add(layers.Dense(10, activation='softmax'))\n",
        "\n",
        "model.summary()\n",
        "model.compile(optimizer='adam',        \n",
        "              loss='sparse_categorical_crossentropy',       \n",
        "              metrics=['accuracy'])\n",
        "\n",
        "\n",
        "\n",
        "history = model.fit(train_images, train_labels, epochs=10,        \n",
        "                    validation_data=(test_images, test_labels))\n",
        "\n"
      ],
      "execution_count": 0,
      "outputs": []
    },
    {
      "cell_type": "markdown",
      "metadata": {
        "id": "uSq3VFn8cI98",
        "colab_type": "text"
      },
      "source": [
        "The following code converts the tf.keras model to an Estimator by using tf.keras.model_to_estimator()"
      ]
    },
    {
      "cell_type": "code",
      "metadata": {
        "id": "oJtCwY7dcecJ",
        "colab_type": "code",
        "colab": {}
      },
      "source": [
        "tf.keras.estimator.model_to_estimator(\n",
        "    keras_model=model,\n",
        "    keras_model_path=None,\n",
        "    custom_objects=None,\n",
        "    model_dir=None,\n",
        "    config=None,\n",
        "    checkpoint_format='checkpoint'\n",
        ")\n",
        "\n"
      ],
      "execution_count": 0,
      "outputs": []
    },
    {
      "cell_type": "markdown",
      "metadata": {
        "id": "EyWswxudcfOd",
        "colab_type": "text"
      },
      "source": [
        "COMPARISON OF BOTH THE APIs:-\n",
        "\n",
        "Both Keras and Estimator are high level APIs which provide high level abstraction over lower-level TensorFlow operations.Both the APIs are easy to learn and easy to build models with but Estimator is considered to be more advanced, faster and scalable because it allows the programmer to create a model by simply configuring it instead of completly coding it.You can conduct distributed training across multiple servers with the Estimators API, but not with Keras API. Estimator can train a model on CPU, GPU or TPU without reordering the model. Such features therefore make Estimator a highly recommended API for Deep Neural Networks."
      ]
    }
  ]
}